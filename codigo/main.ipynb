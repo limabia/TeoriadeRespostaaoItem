{
 "cells": [
  {
   "cell_type": "code",
   "execution_count": null,
   "metadata": {},
   "outputs": [],
   "source": [
    "# -*- coding: utf-8 -*-\n",
    "import pandas as pd\n",
    "import numpy as np\n",
    "import random\n",
    "\n",
    "# primeiro problema a ser resolvido: qual probabilidade do aluno 5 ser melhor do que os outros? \n",
    "\n",
    "\"\"\"importa as questoes do arquivo passado pelo prof \"\"\"\n",
    "def importa_questoes():\n",
    "    tabela_questoes = pd.read_table('../dados/questoes.txt' , sep=' ', names=('a', 'b'))\n",
    "    return tabela_questoes\n",
    "\n",
    "\n",
    "\"\"\" gera provas aleatorias dado o numero de questoes que deseja pra prova e a tabela de questoes \"\"\"\n",
    "def gera_provas_aleatorias(tabela_questoes, n_questoes):\n",
    "    # reindexa a tabela de prova e permita randomicamente as linhas , não destrutivo\n",
    "    tabela_questoes_ = tabela_questoes.reindex(np.random.permutation(tabela_questoes.index))\n",
    "    # separo de todas as linhas embaralhadas randomicamente o numero de questoes que me interessa\n",
    "    prova_aleatoria = tabela_questoes.head(n_questoes)\n",
    "    return prova_aleatoria\n",
    "\n",
    "\n",
    "\"\"\" calcula a probabilidade de um aluno acertar todas as questoes de uma determinada prova \"\"\"\n",
    "def calcula_pr(theta_aluno, questao):\n",
    "    a = questao['a']\n",
    "    b = questao['b']\n",
    "    coef = np.exp(a*(theta_aluno-b))\n",
    "    return coef/(1 + coef)\n",
    "  \n",
    "    \n",
    "\"\"\" calcula o desempenho dos alunos para a prova passada \"\"\"\n",
    "def calcula_notas_alunos(alunos, prova):\n",
    "    notas_prova = np.zeros(5)\n",
    "    # para cada um dos 5 alunos\n",
    "    for i in range(0, 5):\n",
    "        # calcula a probabilidade de acerto de todas as questoes da prova para o aluno i\n",
    "        for p in calcula_pr(alunos[i], prova):\n",
    "            # aplica a distribuicao binomial em cima da probabilidade de acerto para o aluno i e assim calcula sua nota\n",
    "            notas_prova[i] += np.random.binomial(1, p)\n",
    "    # retorna a nota de cada aluno\n",
    "    return notas_prova\n",
    "    \n",
    "\n",
    "\"\"\"Imprime a probabilidade de o aluno 5 ser melhor que os alunos 1, 2, 3 e 4\"\"\"    \n",
    "def saida(comparacao_aluno5_todas_provas): \n",
    "    # cria o arquivo final com a comparacao do aluno 5 para os demais\n",
    "    # txt nome do arquivo: l1.txt\n",
    "    # formato: P_10_1 P_10_2 P_10_3 P_10_4\n",
    "    pass\n",
    "\n",
    "\n",
    "\"\"\"Compara a nota do aluno 5 com os demais alunos em casa uma das provas e retorna \"\"\"\n",
    "def compara_aluno5(notas_prova, vezes_aluno5_melhor):\n",
    "    nota_aluno5 = notas_prova[4]\n",
    "    for i in range(0,4):\n",
    "        if nota_aluno5 > notas_prova[i]:\n",
    "            vezes_aluno5_melhor[i] += 1\n",
    "    return vezes_aluno5_melhor\n",
    " \n",
    "    \n",
    "def main():\n",
    "    # habilidades de cada um dos 5 alunos\n",
    "    alunos = [-1.0, -0.5, 0.0, 0.5, 1.0]\n",
    "    tabela_questoes = importa_questoes()\n",
    "    vezes_aluno5_melhor = np.zeros(4)\n",
    "    i=0\n",
    "    # para um numero alto de vezes (1 milhão foi escolhido), verifica quantas vezes o aluno 5 foi melhor em relação aos demais\n",
    "    while(i < 10):\n",
    "        prova_aleatoria_10 = gera_provas_aleatorias(tabela_questoes, 10)    \n",
    "        # a partir daqui vai efetivamente entrar no problema: a probabilidade do aluno 5 ser melhor que os demais \n",
    "        notas_prova_10 = calcula_notas_alunos(alunos, prova_aleatoria_10)\n",
    "        compara_aluno5(notas_prova_10, vezes_aluno5_melhor)\n",
    "        i += 1\n",
    "    \n",
    "    print(vezes_aluno5_melhor)"
   ]
  },
  {
   "cell_type": "code",
   "execution_count": 57,
   "metadata": {},
   "outputs": [
    {
     "name": "stdout",
     "output_type": "stream",
     "text": [
      "[10.  8.  8.  3.]\n"
     ]
    }
   ],
   "source": [
    "main()"
   ]
  },
  {
   "cell_type": "code",
   "execution_count": null,
   "metadata": {},
   "outputs": [],
   "source": []
  },
  {
   "cell_type": "code",
   "execution_count": null,
   "metadata": {},
   "outputs": [],
   "source": []
  },
  {
   "cell_type": "code",
   "execution_count": null,
   "metadata": {},
   "outputs": [],
   "source": []
  },
  {
   "cell_type": "code",
   "execution_count": null,
   "metadata": {},
   "outputs": [],
   "source": []
  }
 ],
 "metadata": {
  "kernelspec": {
   "display_name": "Python 2",
   "language": "python",
   "name": "python2"
  },
  "language_info": {
   "codemirror_mode": {
    "name": "ipython",
    "version": 2
   },
   "file_extension": ".py",
   "mimetype": "text/x-python",
   "name": "python",
   "nbconvert_exporter": "python",
   "pygments_lexer": "ipython2",
   "version": "2.7.14"
  }
 },
 "nbformat": 4,
 "nbformat_minor": 2
}
